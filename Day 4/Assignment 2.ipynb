{
 "cells": [
  {
   "cell_type": "markdown",
   "metadata": {},
   "source": [
    "Question 1 :\n",
    "Research on whether addition, subtraction, multiplication, division, floor division and modulo\n",
    "operations be performed on complex numbers. Based on your study, implement a Python\n",
    "program to demonstrate these operations."
   ]
  },
  {
   "cell_type": "code",
   "execution_count": 2,
   "metadata": {},
   "outputs": [
    {
     "name": "stdout",
     "output_type": "stream",
     "text": [
      "addition = (15+17j)\n",
      "subtraction = (-1-1j)\n",
      "multiplication = (-16+127j)\n",
      "division = (0.8827586206896552+0.006896551724137907j)\n",
      "Floor Division and Modulo operation can't be performed of complex numbers\n"
     ]
    }
   ],
   "source": [
    "var1 = 7 + 8j\n",
    "var2 = 8 + 9j\n",
    "\n",
    "print(\"addition =\", var1 + var2)\n",
    "print(\"subtraction =\", var1 - var2)\n",
    "print(\"multiplication =\", var1 * var2)\n",
    "print(\"division =\", var1 / var2)\n",
    "print(\"Floor Division and Modulo operation can't be performed of complex numbers\")"
   ]
  },
  {
   "cell_type": "markdown",
   "metadata": {},
   "source": [
    "Question 2 :\n",
    "Research on range() functions and its parameters. Create a markdown cell and write in your own\n",
    "words (no copy-paste from google please) what you understand about it. Implement a small\n",
    "program of your choice on the same."
   ]
  },
  {
   "cell_type": "markdown",
   "metadata": {},
   "source": [
    "range is a built in function in python which gives power to programmer to generate random series of number, It accept three integer arguments start(starting point), end(end point), step(by default step is 1 but we can give any integer value, It will generate the series with that step difference)."
   ]
  },
  {
   "cell_type": "code",
   "execution_count": 6,
   "metadata": {},
   "outputs": [
    {
     "name": "stdout",
     "output_type": "stream",
     "text": [
      "5\n",
      "7\n",
      "9\n",
      "11\n",
      "13\n"
     ]
    }
   ],
   "source": [
    "x = range(0,10,2)\n",
    "y = 5\n",
    "for i in x:\n",
    "    print(i + y)"
   ]
  },
  {
   "cell_type": "code",
   "execution_count": 7,
   "metadata": {},
   "outputs": [
    {
     "name": "stdout",
     "output_type": "stream",
     "text": [
      "2\n",
      "3\n",
      "4\n",
      "5\n",
      "6\n",
      "7\n",
      "8\n",
      "9\n"
     ]
    }
   ],
   "source": [
    "for x in range(2,10):\n",
    "    print(x)"
   ]
  },
  {
   "cell_type": "markdown",
   "metadata": {},
   "source": [
    "Question 3:\n",
    " Consider two numbers. Perform their subtraction and if the result of subtraction is greater than\n",
    "25, print their multiplication result else print their division result."
   ]
  },
  {
   "cell_type": "code",
   "execution_count": 9,
   "metadata": {},
   "outputs": [
    {
     "name": "stdout",
     "output_type": "stream",
     "text": [
      "Multiplication : 212500\n"
     ]
    }
   ],
   "source": [
    "x = 500\n",
    "y = 425\n",
    "\n",
    "subtraction = x -y\n",
    "if subtraction > 25:\n",
    "    print(\"Multiplication :\", x * y)\n",
    "else:\n",
    "    print(\"Division :\", x / y)"
   ]
  },
  {
   "cell_type": "code",
   "execution_count": 10,
   "metadata": {},
   "outputs": [
    {
     "name": "stdout",
     "output_type": "stream",
     "text": [
      "Division : 1.0526315789473684\n"
     ]
    }
   ],
   "source": [
    "x = 500\n",
    "y = 475\n",
    "\n",
    "subtraction = x -y\n",
    "if subtraction > 25:\n",
    "    print(\"Multiplication :\", x * y)\n",
    "else:\n",
    "    print(\"Division :\", x / y)"
   ]
  },
  {
   "cell_type": "markdown",
   "metadata": {},
   "source": [
    "Question 4:\n",
    "Consider a list of 10 elements of integer values. If the number in the list is divisible by 2, print the\n",
    "result as \"square of that number minus 2\".\n"
   ]
  },
  {
   "cell_type": "code",
   "execution_count": 12,
   "metadata": {},
   "outputs": [
    {
     "name": "stdout",
     "output_type": "stream",
     "text": [
      "98\n",
      "142\n",
      "194\n",
      "322\n",
      "34\n",
      "482\n",
      "142\n"
     ]
    }
   ],
   "source": [
    "x = [5,10,12,14,18,15,9,6,22,12]\n",
    "\n",
    "for i in x:\n",
    "    if i % 2 == 0:\n",
    "        print((i ** 2) - 2) "
   ]
  },
  {
   "cell_type": "markdown",
   "metadata": {},
   "source": [
    "Question 5:\n",
    "Consider a list of 10 elements. Print all the elements in the list which are greater than 7 when that\n",
    "number is divided 2."
   ]
  },
  {
   "cell_type": "code",
   "execution_count": 15,
   "metadata": {},
   "outputs": [
    {
     "name": "stdout",
     "output_type": "stream",
     "text": [
      "18\n",
      "15\n",
      "22\n"
     ]
    }
   ],
   "source": [
    "x = [5,10,12,14,18,15,9,6,22,12]\n",
    "\n",
    "for i in x:\n",
    "    if (i / 2) > 7:\n",
    "        print(i)"
   ]
  },
  {
   "cell_type": "code",
   "execution_count": null,
   "metadata": {},
   "outputs": [],
   "source": []
  }
 ],
 "metadata": {
  "kernelspec": {
   "display_name": "Python 3",
   "language": "python",
   "name": "python3"
  },
  "language_info": {
   "codemirror_mode": {
    "name": "ipython",
    "version": 3
   },
   "file_extension": ".py",
   "mimetype": "text/x-python",
   "name": "python",
   "nbconvert_exporter": "python",
   "pygments_lexer": "ipython3",
   "version": "3.7.4"
  }
 },
 "nbformat": 4,
 "nbformat_minor": 2
}
