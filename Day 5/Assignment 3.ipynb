{
 "cells": [
  {
   "cell_type": "markdown",
   "metadata": {},
   "source": [
    "Question 1 :\n",
    "Write a Python program to find the first 20 non-even prime natural numbers."
   ]
  },
  {
   "cell_type": "code",
   "execution_count": 5,
   "metadata": {},
   "outputs": [
    {
     "name": "stdout",
     "output_type": "stream",
     "text": [
      "3\n",
      "5\n",
      "7\n",
      "11\n",
      "13\n",
      "17\n",
      "19\n",
      "23\n",
      "29\n",
      "31\n",
      "37\n",
      "41\n",
      "43\n",
      "47\n",
      "53\n",
      "59\n",
      "61\n",
      "67\n",
      "71\n",
      "73\n"
     ]
    }
   ],
   "source": [
    "counter = 0\n",
    "for x in range(1,100):\n",
    "    if x > 1:\n",
    "        for y in range(2, x // 2 + 2):\n",
    "            if (x % y) == 0:\n",
    "                break\n",
    "            else:\n",
    "                if y == x // 2 + 1:\n",
    "                    print(x)\n",
    "                    counter += 1\n",
    "                if counter == 20:\n",
    "                    break"
   ]
  },
  {
   "cell_type": "markdown",
   "metadata": {},
   "source": [
    "Question 2 :\n",
    "Write a Python program to implement 15 functions of string."
   ]
  },
  {
   "cell_type": "code",
   "execution_count": 24,
   "metadata": {},
   "outputs": [],
   "source": [
    "string = \"how to upload a jupyter NOTEBOOK as a part of an assignment\"\n",
    "string1 = \"NOTEBOOK\""
   ]
  },
  {
   "cell_type": "code",
   "execution_count": 45,
   "metadata": {},
   "outputs": [
    {
     "name": "stdout",
     "output_type": "stream",
     "text": [
      "how to upload a jupyter NOTEBOOK as a part of an assignment\n",
      "How to upload a jupyter notebook as a part of an assignment\n",
      "how to upload a jupyter notebook as a part of an assignment\n",
      "2\n",
      "how to upload a kaggle NOTEBOOK as a part of an assignment\n",
      "16\n",
      "24\n",
      "False\n",
      "False\n",
      "False\n",
      "True\n",
      "notebook\n",
      "HOW TO UPLOAD A JUPYTER NOTEBOOK AS A PART OF AN ASSIGNMENT\n",
      "How To Upload A Jupyter Notebook As A Part Of An Assignment\n",
      "['how', 'to', 'upload', 'a', 'jupyter', 'NOTEBOOK', 'as', 'a', 'part', 'of', 'an', 'assignment']\n"
     ]
    }
   ],
   "source": [
    "print(string.strip(\" \"))\n",
    "print(string.capitalize())\n",
    "print(string.casefold())\n",
    "print(string.count(\"as\"))\n",
    "print(string.replace(\"jupyter\", \"kaggle\"))\n",
    "print(string.find(\"jupyter\"))\n",
    "print(string.index(\"NOTEBOOK\"))\n",
    "print(string.isalpha())\n",
    "print(string.isalnum())\n",
    "print(string.isdigit())\n",
    "print(string1.isupper())\n",
    "print(string1.lower())\n",
    "print(string.upper())\n",
    "print(string.title())\n",
    "print(string.split(\" \"))"
   ]
  },
  {
   "cell_type": "markdown",
   "metadata": {},
   "source": [
    "Question 3:\n",
    "Write a Python program to check if the given string is a Palindrome or Anagram or None of them.\n",
    "Display the message accordingly to the user."
   ]
  },
  {
   "cell_type": "code",
   "execution_count": 55,
   "metadata": {},
   "outputs": [
    {
     "name": "stdout",
     "output_type": "stream",
     "text": [
      "TRIANGLE & INTEGRAL is Anagram\n",
      "TRIANGLE is not Palindrome\n",
      "INTEGRAL is not Palindrome\n",
      "ABCDCBA is Palindrome\n"
     ]
    }
   ],
   "source": [
    "str_1 = \"TRIANGLE\"\n",
    "str_2 = \"INTEGRAL\"\n",
    "str_3 = \"ABCDCBA\"\n",
    "\n",
    "if sorted(str_1) == sorted(str_2):\n",
    "    print(str_1,\"&\",str_2,\"is Anagram\")\n",
    "else: \n",
    "    print(str_1,\"&\",str_2,\"is not Anagram\")\n",
    "\n",
    "if(str_1==(str_1[len(str_1)::-1])):\n",
    "    print(str_1,\"is Palindrome\")\n",
    "else:\n",
    "    print(str_1,\"is not Palindrome\")\n",
    "    \n",
    "if(str_2==(str_2[len(str_2)::-1])):\n",
    "    print(str_2,\"is Palindrome\")\n",
    "else:\n",
    "    print(str_2,\"is not Palindrome\")\n",
    "    \n",
    "if(str_3==(str_3[len(str_3)::-1])):\n",
    "    print(str_3,\"is Palindrome\")\n",
    "else:\n",
    "    print(str3,\"is not palindrome\")"
   ]
  },
  {
   "cell_type": "markdown",
   "metadata": {},
   "source": [
    "Question 4:\n",
    "Write a Python's user defined function that removes all the additional characters from the string\n",
    "and converts it finally to lower case using built-in lower(). eg: If the string is \"Dr. Darshan Ingle\n",
    "@AI-ML Trainer\", then the output be \"drdarshaningleaimltrainer\"."
   ]
  },
  {
   "cell_type": "code",
   "execution_count": 65,
   "metadata": {},
   "outputs": [],
   "source": [
    "def remove_add_char(str1):\n",
    "    final_string = \"\"\n",
    "    for character in str1:\n",
    "        if character.isalpha():\n",
    "            final_string = final_string + character\n",
    "    return final_string.lower()"
   ]
  },
  {
   "cell_type": "code",
   "execution_count": 66,
   "metadata": {},
   "outputs": [
    {
     "data": {
      "text/plain": [
       "'drdarshaningleaimltrainer'"
      ]
     },
     "execution_count": 66,
     "metadata": {},
     "output_type": "execute_result"
    }
   ],
   "source": [
    "remove_add_char(\"Dr. Darshan Ingle @AI-ML Trainer\")"
   ]
  },
  {
   "cell_type": "code",
   "execution_count": null,
   "metadata": {},
   "outputs": [],
   "source": []
  }
 ],
 "metadata": {
  "kernelspec": {
   "display_name": "Python 3",
   "language": "python",
   "name": "python3"
  },
  "language_info": {
   "codemirror_mode": {
    "name": "ipython",
    "version": 3
   },
   "file_extension": ".py",
   "mimetype": "text/x-python",
   "name": "python",
   "nbconvert_exporter": "python",
   "pygments_lexer": "ipython3",
   "version": "3.7.4"
  }
 },
 "nbformat": 4,
 "nbformat_minor": 2
}
