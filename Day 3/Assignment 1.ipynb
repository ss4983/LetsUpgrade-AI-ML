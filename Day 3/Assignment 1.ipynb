{
 "cells": [
  {
   "cell_type": "markdown",
   "metadata": {},
   "source": [
    "Question 1 :\n",
    "Write a program to subtract two complex numbers in Python."
   ]
  },
  {
   "cell_type": "code",
   "execution_count": 8,
   "metadata": {},
   "outputs": [
    {
     "name": "stdout",
     "output_type": "stream",
     "text": [
      "Result : (4-1j)\n",
      "Result : (10+12j)\n"
     ]
    }
   ],
   "source": [
    "#First Approach\n",
    "var1 = 9 + 6j\n",
    "var2 = 5 + 7j\n",
    "\n",
    "print(\"Result :\", var1 - var2)\n",
    "\n",
    "#Second Approach\n",
    "var1 = complex(4, 5)\n",
    "var2 = complex(6, 7)\n",
    "\n",
    "print(\"Result :\", var1 + var2)\n"
   ]
  },
  {
   "cell_type": "markdown",
   "metadata": {},
   "source": [
    "Question 2 :\n",
    "Write a program to find the fourth root of a number.\n"
   ]
  },
  {
   "cell_type": "code",
   "execution_count": 10,
   "metadata": {},
   "outputs": [
    {
     "name": "stdout",
     "output_type": "stream",
     "text": [
      "1.7320508075688772\n"
     ]
    }
   ],
   "source": [
    "var1 = 9\n",
    "root = 4\n",
    "\n",
    "fourth_root = var1 ** (1/root)\n",
    "\n",
    "print(fourth_root)"
   ]
  },
  {
   "cell_type": "markdown",
   "metadata": {},
   "source": [
    "Question 3:\n",
    "Write a program to swap two numbers in Python with the help of a temporary variable."
   ]
  },
  {
   "cell_type": "code",
   "execution_count": 27,
   "metadata": {},
   "outputs": [
    {
     "name": "stdout",
     "output_type": "stream",
     "text": [
      "After swaping \n",
      "var1: 5 \n",
      "var2: 4\n"
     ]
    }
   ],
   "source": [
    "var1 = 4\n",
    "var2 = 5\n",
    "temp = var1\n",
    "\n",
    "var1 = var2\n",
    "var2 = temp\n",
    "\n",
    "print(\"After swaping \\nvar1:\", var1, \"\\nvar2:\", var2)"
   ]
  },
  {
   "cell_type": "markdown",
   "metadata": {},
   "source": [
    "Question 4:\n",
    "Write a program to swap two numbers in Python without using a temporary variable."
   ]
  },
  {
   "cell_type": "code",
   "execution_count": 29,
   "metadata": {},
   "outputs": [
    {
     "name": "stdout",
     "output_type": "stream",
     "text": [
      "After Swapping \n",
      "Var1: 8 \n",
      "var2: 7\n"
     ]
    }
   ],
   "source": [
    "var1 = 7\n",
    "var2 = 8\n",
    "\n",
    "var1 = var1 + var2\n",
    "var2 = var1 - var2\n",
    "var1 = var1 - var2\n",
    "\n",
    "print(\"After Swapping \\nVar1:\", var1, \"\\nvar2:\", var2)"
   ]
  },
  {
   "cell_type": "markdown",
   "metadata": {},
   "source": [
    "Question 5:\n",
    "Write a program to convert fahrenheit to kelvin and celsius both.\n"
   ]
  },
  {
   "cell_type": "code",
   "execution_count": 33,
   "metadata": {},
   "outputs": [
    {
     "name": "stdout",
     "output_type": "stream",
     "text": [
      "Fahrenheit to Kelvin : 299.81666666666666\n",
      "Fahrenheit to Celcius: 26.666666666666668\n"
     ]
    }
   ],
   "source": [
    "fahrenheit = 80\n",
    "kelvin = (fahrenheit - 32) * 5/9 + 273.15\n",
    "celcius = (fahrenheit - 32) * 5/9 \n",
    "\n",
    "print(\"Fahrenheit to Kelvin :\", kelvin)\n",
    "print(\"Fahrenheit to Celcius:\", celcius)"
   ]
  },
  {
   "cell_type": "markdown",
   "metadata": {},
   "source": [
    "Question 6:\n",
    "Write a program to demonstrate all the available data types in Python. Hint: Use type() function."
   ]
  },
  {
   "cell_type": "code",
   "execution_count": 35,
   "metadata": {},
   "outputs": [
    {
     "name": "stdout",
     "output_type": "stream",
     "text": [
      "<class 'int'>\n",
      "<class 'float'>\n",
      "<class 'complex'>\n",
      "<class 'set'>\n",
      "<class 'list'>\n",
      "<class 'set'>\n",
      "<class 'set'>\n",
      "<class 'set'>\n",
      "<class 'tuple'>\n",
      "<class 'bool'>\n"
     ]
    }
   ],
   "source": [
    "x = 5\n",
    "y = 5.0\n",
    "z = 5 + 4j\n",
    "s = \"My name is Python\"\n",
    "l = [6, \"aba\"]\n",
    "d = {\"name\", \"python\"}\n",
    "s = {5,6,\"python\"}\n",
    "t = (4,5)\n",
    "b = (True)\n",
    "\n",
    "print(type(x))\n",
    "print(type(y))\n",
    "print(type(z))\n",
    "print(type(s))\n",
    "print(type(l))\n",
    "print(type(d))\n",
    "print(type(d))\n",
    "print(type(s))\n",
    "print(type(t))\n",
    "print(type(b))"
   ]
  },
  {
   "cell_type": "markdown",
   "metadata": {},
   "source": [
    "Question 7:\n",
    "Create a Markdown cell in jupyter and list the steps discussed in the session by Dr. Darshan\n",
    "Ingle sir to create Github profile and upload Githubs Assignment link."
   ]
  },
  {
   "cell_type": "markdown",
   "metadata": {},
   "source": [
    "1) Create github account and login to github account from URL www.github.com.\\\n",
    "2) Go to repository section and click new to create new repository.\\\n",
    "3) Name the repository as \"LetsUpgrade AI-ML\".\\\n",
    "4) Add description as Assignments.\\\n",
    "5) Make sure to keep the repository public.\\\n",
    "6) Scroll down and click on create repository.\\\n",
    "7) Go to your system/Desktop and create a folder named as Day3.\\\n",
    "8) Inside Day3 folder create new .ipynb file and write your assignment codes inside .ipynb file and save.\\\n",
    "9) Go back to your github and click on \"LetsUpgrade AI-ML\" repository.\\\n",
    "10) Drag folder Day3 and drop on the \"LetsUpgrade AI-ML\" repository in browser from your desktop.\\\n",
    "11) Once files are added click on commit changes.\\\n",
    "12) Now browse inside the Day3 folder of \"LetsUpgrade AI-ML\" repository and copy URL from the browser.\\\n",
    "13) Go to \"Assignment Submit Form : https://bit.ly/aimlassignment \" (google form).\\\n",
    "14) Enter Registered E-mail, Name, Phone Number and paste the copied github URL in the \"Give Github URL\" section and click submit."
   ]
  },
  {
   "cell_type": "code",
   "execution_count": null,
   "metadata": {},
   "outputs": [],
   "source": []
  }
 ],
 "metadata": {
  "kernelspec": {
   "display_name": "Python 3",
   "language": "python",
   "name": "python3"
  },
  "language_info": {
   "codemirror_mode": {
    "name": "ipython",
    "version": 3
   },
   "file_extension": ".py",
   "mimetype": "text/x-python",
   "name": "python",
   "nbconvert_exporter": "python",
   "pygments_lexer": "ipython3",
   "version": "3.7.4"
  }
 },
 "nbformat": 4,
 "nbformat_minor": 2
}
